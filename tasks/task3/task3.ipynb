{
 "cells": [
  {
   "cell_type": "markdown",
   "metadata": {
    "id": "z86cTSScKXa1"
   },
   "source": [
    "## Лабораторная работа № 7\n",
    "## Сикорский М8О-408Б-20\n",
    "## Вариант 6 (25 по списку)"
   ]
  },
  {
   "cell_type": "code",
   "execution_count": 25,
   "metadata": {
    "colab": {
     "base_uri": "https://localhost:8080/",
     "height": 1000
    },
    "id": "CdM3lvGAktHB",
    "outputId": "3f2139b2-fe78-4286-e9f1-b42a866066a2",
    "ExecuteTime": {
     "end_time": "2023-12-27T20:39:29.077187Z",
     "start_time": "2023-12-27T20:39:29.070965Z"
    }
   },
   "outputs": [],
   "source": []
  },
  {
   "cell_type": "markdown",
   "metadata": {
    "id": "_D9lPraZNGkr"
   },
   "source": []
  },
  {
   "cell_type": "code",
   "execution_count": 25,
   "metadata": {
    "colab": {
     "base_uri": "https://localhost:8080/",
     "height": 1000
    },
    "id": "uk9Ky6FvaW8v",
    "outputId": "ffa52cd8-453a-456a-b565-d41dd8c77109",
    "ExecuteTime": {
     "end_time": "2023-12-27T20:39:11.529982Z",
     "start_time": "2023-12-27T20:39:11.526385Z"
    }
   },
   "outputs": [],
   "source": []
  },
  {
   "cell_type": "markdown",
   "metadata": {
    "id": "PflPQC3INSj0"
   },
   "source": []
  }
 ],
 "metadata": {
  "colab": {
   "provenance": []
  },
  "kernelspec": {
   "display_name": "Python 3.11.0 64-bit",
   "language": "python",
   "name": "python3"
  },
  "language_info": {
   "name": "python",
   "version": "3.11.0"
  },
  "vscode": {
   "interpreter": {
    "hash": "c261aea317cc0286b3b3261fbba9abdec21eaa57589985bb7a274bf54d6cc0a7"
   }
  }
 },
 "nbformat": 4,
 "nbformat_minor": 0
}
