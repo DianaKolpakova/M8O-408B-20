{
 "cells": [
  {
   "cell_type": "markdown",
   "metadata": {},
   "source": [
    "## Численное решение интегральных уравнений Фредгольма 2-го рода"
   ]
  },
  {
   "cell_type": "markdown",
   "metadata": {},
   "source": [
    "Реализуем метод квадратур для решения интегральных уравнений Фредгольма 2-го рода"
   ]
  },
  {
   "cell_type": "code",
   "execution_count": 54,
   "metadata": {},
   "outputs": [],
   "source": [
    "import numpy as np\n",
    "import matplotlib.pyplot as plt\n",
    "import pandas as pd\n",
    "\n",
    "def fredholm_method(K, f, a, b, h, iterations=1000, tol=1e-6):\n",
    "\n",
    "    # Разделяем область интегрировани [a, b] на h частей\n",
    "    x = np.arange(a, b + h, h)\n",
    "\n",
    "    # Определяем количество отрезков\n",
    "    n = len(x)\n",
    "    \n",
    "    # Создаем матрицу размера n x n, состоящую из 0\n",
    "    A = np.zeros((n, n))\n",
    "    for i in range(n):\n",
    "        A[i, 0] = -h * 0.5 * K(x[i], x[0])\n",
    "        for j in range(1, n-1):\n",
    "            A[i, j] = -h * K(x[i], x[j])\n",
    "        A[i, n-1] = -h * 0.5 * K(x[i], x[n-1])\n",
    "        A[i, i] += 1\n",
    "    \n",
    "    B = np.array([f(xi) for xi in x]).reshape(-1, 1)\n",
    "    \n",
    "    # Начальное приближение\n",
    "    x_0 = np.zeros_like(B)\n",
    "\n",
    "    # Метод простых итераций\n",
    "    x_new = x_0.copy()\n",
    "    for k in range(iterations):\n",
    "        for i in range(n):\n",
    "            # Вычисляем новое значение для x_i\n",
    "            x_new[i] = (B[i] - np.dot(A[i], x_0) + A[i, i] * x_0[i]) / A[i, i]\n",
    "        \n",
    "        # Проверяем условие сходимости\n",
    "        if np.linalg.norm(x_new - x_0) < tol:\n",
    "            return x_new\n",
    "        \n",
    "        # Обновляем предыдущее приближение\n",
    "        x_0 = x_new.copy()\n",
    "\n",
    "    return x_new"
   ]
  },
  {
   "cell_type": "markdown",
   "metadata": {},
   "source": [
    "Пример"
   ]
  },
  {
   "cell_type": "code",
   "execution_count": 108,
   "metadata": {},
   "outputs": [
    {
     "name": "stdout",
     "output_type": "stream",
     "text": [
      "2.44 s ± 91.5 ms per loop (mean ± std. dev. of 7 runs, 1 loop each)\n"
     ]
    }
   ],
   "source": [
    "%%timeit\n",
    "\n",
    "# Параметры\n",
    "h = np.pi / 10\n",
    "a = -np.pi\n",
    "b = np.pi\n",
    "_lambda = 3 / (10 * np.pi)\n",
    "\n",
    "# Ядро уравнения\n",
    "def K(x1, s):\n",
    "    return 1 / (0.64 * (np.cos((x1 + s) / 2)) ** 2 - 1) * _lambda\n",
    "\n",
    "# Правая часть уравнения\n",
    "def f(x1):\n",
    "    return 25 - 16 * (np.sin(x1)) ** 2\n",
    "\n",
    "# Точное решение\n",
    "def y_exact(x1):\n",
    "    return 17 / 2 + 128 / 17 * np.cos(2 * x1)\n",
    "\n",
    "x_values = np.arange(a, b + h, h)\n",
    "\n",
    "# Решение уравнения\n",
    "y_approx = fredholm_method(K, f, a, b, h)\n",
    "exact = y_exact(x_values)\n",
    "\n",
    "df = pd.DataFrame({'x': np.arange(a, b + h, h),\n",
    "                   'y_exact': y_exact(np.arange(a, b + h, h)),\n",
    "                   'y_approx': y_approx.flatten()})"
   ]
  },
  {
   "cell_type": "code",
   "execution_count": 109,
   "metadata": {},
   "outputs": [],
   "source": [
    "df = pd.DataFrame({'x': np.arange(a, b + h, h),\n",
    "                   'y_exact': y_exact(np.arange(a, b + h, h)),\n",
    "                   'y_approx': y_approx.flatten()})"
   ]
  },
  {
   "cell_type": "code",
   "execution_count": 110,
   "metadata": {},
   "outputs": [
    {
     "data": {
      "text/html": [
       "<div>\n",
       "<style scoped>\n",
       "    .dataframe tbody tr th:only-of-type {\n",
       "        vertical-align: middle;\n",
       "    }\n",
       "\n",
       "    .dataframe tbody tr th {\n",
       "        vertical-align: top;\n",
       "    }\n",
       "\n",
       "    .dataframe thead th {\n",
       "        text-align: right;\n",
       "    }\n",
       "</style>\n",
       "<table border=\"1\" class=\"dataframe\">\n",
       "  <thead>\n",
       "    <tr style=\"text-align: right;\">\n",
       "      <th></th>\n",
       "      <th>x</th>\n",
       "      <th>y_exact</th>\n",
       "      <th>y_approx</th>\n",
       "    </tr>\n",
       "  </thead>\n",
       "  <tbody>\n",
       "    <tr>\n",
       "      <th>0</th>\n",
       "      <td>-3.141593</td>\n",
       "      <td>16.029412</td>\n",
       "      <td>16.029412</td>\n",
       "    </tr>\n",
       "    <tr>\n",
       "      <th>1</th>\n",
       "      <td>-2.827433</td>\n",
       "      <td>14.591422</td>\n",
       "      <td>14.591422</td>\n",
       "    </tr>\n",
       "    <tr>\n",
       "      <th>2</th>\n",
       "      <td>-2.513274</td>\n",
       "      <td>10.826716</td>\n",
       "      <td>10.826716</td>\n",
       "    </tr>\n",
       "    <tr>\n",
       "      <th>3</th>\n",
       "      <td>-2.199115</td>\n",
       "      <td>6.173284</td>\n",
       "      <td>6.173284</td>\n",
       "    </tr>\n",
       "    <tr>\n",
       "      <th>4</th>\n",
       "      <td>-1.884956</td>\n",
       "      <td>2.408578</td>\n",
       "      <td>2.408578</td>\n",
       "    </tr>\n",
       "    <tr>\n",
       "      <th>5</th>\n",
       "      <td>-1.570796</td>\n",
       "      <td>0.970588</td>\n",
       "      <td>0.970588</td>\n",
       "    </tr>\n",
       "    <tr>\n",
       "      <th>6</th>\n",
       "      <td>-1.256637</td>\n",
       "      <td>2.408578</td>\n",
       "      <td>2.408578</td>\n",
       "    </tr>\n",
       "    <tr>\n",
       "      <th>7</th>\n",
       "      <td>-0.942478</td>\n",
       "      <td>6.173284</td>\n",
       "      <td>6.173284</td>\n",
       "    </tr>\n",
       "    <tr>\n",
       "      <th>8</th>\n",
       "      <td>-0.628319</td>\n",
       "      <td>10.826716</td>\n",
       "      <td>10.826716</td>\n",
       "    </tr>\n",
       "    <tr>\n",
       "      <th>9</th>\n",
       "      <td>-0.314159</td>\n",
       "      <td>14.591422</td>\n",
       "      <td>14.591422</td>\n",
       "    </tr>\n",
       "    <tr>\n",
       "      <th>10</th>\n",
       "      <td>0.000000</td>\n",
       "      <td>16.029412</td>\n",
       "      <td>16.029412</td>\n",
       "    </tr>\n",
       "    <tr>\n",
       "      <th>11</th>\n",
       "      <td>0.314159</td>\n",
       "      <td>14.591422</td>\n",
       "      <td>14.591422</td>\n",
       "    </tr>\n",
       "    <tr>\n",
       "      <th>12</th>\n",
       "      <td>0.628319</td>\n",
       "      <td>10.826716</td>\n",
       "      <td>10.826716</td>\n",
       "    </tr>\n",
       "    <tr>\n",
       "      <th>13</th>\n",
       "      <td>0.942478</td>\n",
       "      <td>6.173284</td>\n",
       "      <td>6.173284</td>\n",
       "    </tr>\n",
       "    <tr>\n",
       "      <th>14</th>\n",
       "      <td>1.256637</td>\n",
       "      <td>2.408578</td>\n",
       "      <td>2.408578</td>\n",
       "    </tr>\n",
       "    <tr>\n",
       "      <th>15</th>\n",
       "      <td>1.570796</td>\n",
       "      <td>0.970588</td>\n",
       "      <td>0.970588</td>\n",
       "    </tr>\n",
       "    <tr>\n",
       "      <th>16</th>\n",
       "      <td>1.884956</td>\n",
       "      <td>2.408578</td>\n",
       "      <td>2.408578</td>\n",
       "    </tr>\n",
       "    <tr>\n",
       "      <th>17</th>\n",
       "      <td>2.199115</td>\n",
       "      <td>6.173284</td>\n",
       "      <td>6.173284</td>\n",
       "    </tr>\n",
       "    <tr>\n",
       "      <th>18</th>\n",
       "      <td>2.513274</td>\n",
       "      <td>10.826716</td>\n",
       "      <td>10.826716</td>\n",
       "    </tr>\n",
       "    <tr>\n",
       "      <th>19</th>\n",
       "      <td>2.827433</td>\n",
       "      <td>14.591422</td>\n",
       "      <td>14.591422</td>\n",
       "    </tr>\n",
       "    <tr>\n",
       "      <th>20</th>\n",
       "      <td>3.141593</td>\n",
       "      <td>16.029412</td>\n",
       "      <td>16.029412</td>\n",
       "    </tr>\n",
       "  </tbody>\n",
       "</table>\n",
       "</div>"
      ],
      "text/plain": [
       "           x    y_exact   y_approx\n",
       "0  -3.141593  16.029412  16.029412\n",
       "1  -2.827433  14.591422  14.591422\n",
       "2  -2.513274  10.826716  10.826716\n",
       "3  -2.199115   6.173284   6.173284\n",
       "4  -1.884956   2.408578   2.408578\n",
       "5  -1.570796   0.970588   0.970588\n",
       "6  -1.256637   2.408578   2.408578\n",
       "7  -0.942478   6.173284   6.173284\n",
       "8  -0.628319  10.826716  10.826716\n",
       "9  -0.314159  14.591422  14.591422\n",
       "10  0.000000  16.029412  16.029412\n",
       "11  0.314159  14.591422  14.591422\n",
       "12  0.628319  10.826716  10.826716\n",
       "13  0.942478   6.173284   6.173284\n",
       "14  1.256637   2.408578   2.408578\n",
       "15  1.570796   0.970588   0.970588\n",
       "16  1.884956   2.408578   2.408578\n",
       "17  2.199115   6.173284   6.173284\n",
       "18  2.513274  10.826716  10.826716\n",
       "19  2.827433  14.591422  14.591422\n",
       "20  3.141593  16.029412  16.029412"
      ]
     },
     "execution_count": 110,
     "metadata": {},
     "output_type": "execute_result"
    }
   ],
   "source": [
    "df"
   ]
  },
  {
   "cell_type": "markdown",
   "metadata": {},
   "source": [
    "Выведем графики"
   ]
  },
  {
   "cell_type": "code",
   "execution_count": 93,
   "metadata": {},
   "outputs": [
    {
     "name": "stderr",
     "output_type": "stream",
     "text": [
      "/tmp/ipykernel_31150/2472194371.py:3: UserWarning: linestyle is redundantly defined by the 'linestyle' keyword argument and the fmt string \"o-\" (-> linestyle='-'). The keyword argument will take precedence.\n",
      "  plt.plot(x_values, y_approx, 'o-', label='Приближенное решение', linestyle='dashed', dashes=(4,4), linewidth=3)\n"
     ]
    },
    {
     "data": {
      "image/png": "[encoded data removed]",
      "text/plain": [
       "<Figure size 1000x600 with 1 Axes>"
      ]
     },
     "metadata": {},
     "output_type": "display_data"
    }
   ],
   "source": [
    "\n",
    "\n",
    "plt.figure(figsize=(10, 6))\n",
    "plt.plot(x_values, exact, label='Точное решение', linewidth=3)\n",
    "plt.plot(x_values, y_approx, 'o-', label='Приближенное решение', linestyle='dashed', dashes=(4,4), linewidth=3)\n",
    "plt.title('Сравнение точного и приближенного решения')\n",
    "plt.xlabel('x')\n",
    "plt.ylabel('y')\n",
    "plt.legend()\n",
    "plt.grid(True)\n",
    "plt.show()"
   ]
  },
  {
   "cell_type": "code",
   "execution_count": null,
   "metadata": {},
   "outputs": [],
   "source": []
  },
  {
   "cell_type": "code",
   "execution_count": null,
   "metadata": {},
   "outputs": [],
   "source": []
  }
 ],
 "metadata": {
  "kernelspec": {
   "display_name": "venv",
   "language": "python",
   "name": "python3"
  },
  "language_info": {
   "codemirror_mode": {
    "name": "ipython",
    "version": 3
   },
   "file_extension": ".py",
   "mimetype": "text/x-python",
   "name": "python",
   "nbconvert_exporter": "python",
   "pygments_lexer": "ipython3",
   "version": "3.11.4"
  }
 },
 "nbformat": 4,
 "nbformat_minor": 2
}
